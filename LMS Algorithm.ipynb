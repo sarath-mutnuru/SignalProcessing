{
 "cells": [
  {
   "cell_type": "code",
   "execution_count": 99,
   "id": "fa9f77d1",
   "metadata": {},
   "outputs": [],
   "source": [
    "import numpy as np\n",
    "import matplotlib.pyplot as plt\n",
    "%matplotlib inline"
   ]
  },
  {
   "cell_type": "markdown",
   "id": "f0f345a9",
   "metadata": {},
   "source": [
    "### Estimation of Weights using Linear Regression Formulation"
   ]
  },
  {
   "cell_type": "code",
   "execution_count": 100,
   "id": "498166ed",
   "metadata": {},
   "outputs": [],
   "source": [
    "def get_formatted_input(input_, filter_size=11):\n",
    "    \"\"\"\n",
    "    from list of size N to np ndarray of size Nxfilter_size\n",
    "    \"\"\"\n",
    "    m = (filter_size-1)//2\n",
    "    padded_input = [0]*m+list(input_)+[0]*m #\n",
    "    formatted_input = []\n",
    "    for i in range(len(padded_input)-filter_size+1):\n",
    "        formatted_input.append(padded_input[i:i+filter_size])\n",
    "    formatted_input = np.asarray(formatted_input)\n",
    "    return formatted_input\n",
    "\n",
    "def get_output(input_, filter_, noise_std = 100):\n",
    "    \"\"\"\n",
    "    input_ is list of size N\n",
    "    filter_ is just a list of len filter_size\n",
    "    \"\"\"\n",
    "    filter_ = np.asarray(filter_).reshape(len(filter_),1)\n",
    "    output = np.matmul(input_, filter_) #Nx1\n",
    "    noise = noise_std*np.random.randn(*output.shape)\n",
    "    return output+noise\n",
    "\n",
    "def get_estimated_weights(input_, output_):\n",
    "    \"\"\"\n",
    "    O = Xw\n",
    "    => inv(XT*X)*XT*O = w\n",
    "    \"\"\"\n",
    "    mul = np.matmul(input_.T, input_)\n",
    "    inv = np.linalg.pinv(mul)\n",
    "    a = np.matmul(inv, input_.T)\n",
    "    b = np.matmul(a, output_)\n",
    "    return b"
   ]
  },
  {
   "cell_type": "code",
   "execution_count": 101,
   "id": "91d59e2a",
   "metadata": {},
   "outputs": [
    {
     "name": "stdout",
     "output_type": "stream",
     "text": [
      "shape of formatted_input : (100, 13), shape of output : (100, 1)\n"
     ]
    }
   ],
   "source": [
    "# input data\n",
    "input_size = 100\n",
    "filter_size = 13\n",
    "input_ = list(np.random.randint(1,10,input_size).astype('float32'))\n",
    "filter_ = list(np.random.randint(1,10,filter_size).astype('float32'))\n",
    "noise_std = 20\n",
    "formatted_input = get_formatted_input(input_, filter_size)\n",
    "output_ = get_output(formatted_input, filter_, noise_std = noise_std)\n",
    "print(\"shape of formatted_input : {}, shape of output : {}\".format(formatted_input.shape, output_.shape))"
   ]
  },
  {
   "cell_type": "code",
   "execution_count": 102,
   "id": "f913392c",
   "metadata": {},
   "outputs": [
    {
     "name": "stdout",
     "output_type": "stream",
     "text": [
      "estimated_weights_LinReg : ['7.79', '3.14', '2.39', '5.36', '8.41', '2.66', '7.77', '6.48', '3.51', '3.87', '6.00', '8.27', '7.55']\n",
      "actual weights : [7.0, 3.0, 3.0, 4.0, 8.0, 3.0, 7.0, 6.0, 5.0, 4.0, 6.0, 9.0, 8.0]\n"
     ]
    }
   ],
   "source": [
    "# running the LinReg formulation\n",
    "estimated_weights_LinReg = get_estimated_weights(formatted_input, output_)\n",
    "print(\"estimated_weights_LinReg : {}\".format([\"{0:.2f}\".format(e) for e in estimated_weights_LinReg.squeeze()]))\n",
    "print(\"actual weights : {}\".format(filter_))"
   ]
  },
  {
   "cell_type": "code",
   "execution_count": 103,
   "id": "1c345402",
   "metadata": {},
   "outputs": [
    {
     "data": {
      "image/png": "[encoded data removed]",
      "text/plain": [
       "<Figure size 432x288 with 1 Axes>"
      ]
     },
     "metadata": {
      "needs_background": "light"
     },
     "output_type": "display_data"
    }
   ],
   "source": [
    "#plotting\n",
    "plt.plot(estimated_weights_LinReg, 'r+', label=\"estimated\")\n",
    "plt.plot(filter_,'bo',fillstyle=\"none\",label=\"actual\")\n",
    "plt.legend()\n",
    "plt.title(\"Weights Estimated Using Linear Regression Formulation\")\n",
    "plt.show()"
   ]
  },
  {
   "cell_type": "markdown",
   "id": "1af845d9",
   "metadata": {},
   "source": [
    "### Estimation Using Least Mean Square Algorithm"
   ]
  },
  {
   "cell_type": "code",
   "execution_count": 104,
   "id": "8982510d",
   "metadata": {},
   "outputs": [],
   "source": [
    "def LMSAlgorithm(_desired, _input, filter_size=11, num_epochs=10, lr = 0.001):\n",
    "    \"\"\"\n",
    "    Type of Stochastic Gradient Descent Algorithm\n",
    "    We update weights using gradient descent obtained for each input.\n",
    "    W(t+1) = W(t) + lr*error*input  \n",
    "    \"\"\"\n",
    "    formatted_input = get_formatted_input(_input, filter_size)\n",
    "    N = len(_input)\n",
    "    c = 0\n",
    "    estimated_filter = np.random.randint(0,2,filter_size).astype('float64')\n",
    "    errors = []\n",
    "    for _ in range(num_epochs):\n",
    "        e = 0\n",
    "        for n in range(N):\n",
    "            input_n = formatted_input[n]\n",
    "            \n",
    "            output_n = np.sum(input_n*estimated_filter)\n",
    "            error_n = _desired[n]-output_n\n",
    "            e += error_n\n",
    "            estimated_filter += lr*error_n*input_n        \n",
    "        errors.append(e)\n",
    "    return estimated_filter, errors"
   ]
  },
  {
   "cell_type": "code",
   "execution_count": 105,
   "id": "3ef66fc9",
   "metadata": {},
   "outputs": [],
   "source": [
    "# running LMS Algo\n",
    "estimated_weights_LMS,errors_LMS = LMSAlgorithm(list(output_.flatten()), input_, filter_size = filter_size)"
   ]
  },
  {
   "cell_type": "code",
   "execution_count": 106,
   "id": "5cad9b30",
   "metadata": {},
   "outputs": [
    {
     "name": "stdout",
     "output_type": "stream",
     "text": [
      "estimated_weights_LMS : ['7.85', '3.44', '2.35', '5.47', '8.60', '3.21', '7.68', '6.33', '3.28', '3.72', '5.80', '8.20', '7.44']\n",
      "actual weights : [7.0, 3.0, 3.0, 4.0, 8.0, 3.0, 7.0, 6.0, 5.0, 4.0, 6.0, 9.0, 8.0]\n"
     ]
    }
   ],
   "source": [
    "print(\"estimated_weights_LMS : {}\".format([\"{0:.2f}\".format(e) for e in estimated_weights_LMS.squeeze()]))\n",
    "print(\"actual weights : {}\".format(filter_))"
   ]
  },
  {
   "cell_type": "code",
   "execution_count": 108,
   "id": "760991df",
   "metadata": {},
   "outputs": [
    {
     "data": {
      "image/png": "[encoded data removed]",
      "text/plain": [
       "<Figure size 432x288 with 1 Axes>"
      ]
     },
     "metadata": {
      "needs_background": "light"
     },
     "output_type": "display_data"
    }
   ],
   "source": [
    "plt.plot(errors_LMS)\n",
    "plt.show()"
   ]
  },
  {
   "cell_type": "code",
   "execution_count": 107,
   "id": "d2a8e444",
   "metadata": {},
   "outputs": [
    {
     "data": {
      "image/png": "[encoded data removed]",
      "text/plain": [
       "<Figure size 432x288 with 1 Axes>"
      ]
     },
     "metadata": {
      "needs_background": "light"
     },
     "output_type": "display_data"
    }
   ],
   "source": [
    "#plotting\n",
    "plt.plot(estimated_weights_LMS, 'r+', label=\"estimated_LMS\")\n",
    "plt.plot(estimated_weights_LinReg, 'g.', label=\"estimated_LinReg\")\n",
    "plt.plot(filter_,'bo',fillstyle=\"none\",label=\"actual\")\n",
    "plt.legend(loc=1)\n",
    "plt.title(\"Weights Estimated Using LMS Algorithm\")\n",
    "plt.show()"
   ]
  }
 ],
 "metadata": {
  "kernelspec": {
   "display_name": "Python 3 (ipykernel)",
   "language": "python",
   "name": "python3"
  },
  "language_info": {
   "codemirror_mode": {
    "name": "ipython",
    "version": 3
   },
   "file_extension": ".py",
   "mimetype": "text/x-python",
   "name": "python",
   "nbconvert_exporter": "python",
   "pygments_lexer": "ipython3",
   "version": "3.7.11"
  }
 },
 "nbformat": 4,
 "nbformat_minor": 5
}
